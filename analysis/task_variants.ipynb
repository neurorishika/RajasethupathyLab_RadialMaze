{
 "cells": [
  {
   "cell_type": "code",
   "execution_count": 2,
   "metadata": {},
   "outputs": [],
   "source": [
    "import numpy as np\n",
    "import matplotlib.pyplot as plt\n",
    "import itertools\n",
    "from tqdm import tqdm"
   ]
  },
  {
   "cell_type": "code",
   "execution_count": 3,
   "metadata": {},
   "outputs": [
    {
     "name": "stderr",
     "output_type": "stream",
     "text": [
      "100%|██████████| 3628800/3628800 [01:07<00:00, 53552.48it/s]\n"
     ]
    }
   ],
   "source": [
    "N_arms = 10\n",
    "N_resources = 5\n",
    "\n",
    "base = ['F']*N_resources + ['0']*(N_arms-N_resources)\n",
    "# find all permutations of variants\n",
    "all_perms = list(itertools.permutations(base))\n",
    "# remove effective duplicates\n",
    "variants = []\n",
    "for perm in tqdm(all_perms):\n",
    "    # all rotations of a variant are equivalent and so with reflections\n",
    "    rotations = [perm]\n",
    "    for i in range(1, N_arms):\n",
    "        rotations.append(perm[i:] + perm[:i])\n",
    "    reflections = []\n",
    "    for rotation in rotations:\n",
    "        reflections.append(rotation[::-1])\n",
    "    all_versions = rotations + reflections\n",
    "    # check if variant is already in list\n",
    "    all_version_in_list = [x in variants for x in all_versions]\n",
    "    if not any(all_version_in_list):\n",
    "        variants.append(perm)"
   ]
  },
  {
   "cell_type": "code",
   "execution_count": 4,
   "metadata": {},
   "outputs": [
    {
     "name": "stdout",
     "output_type": "stream",
     "text": [
      "Found 16 variants\n",
      "Variants:\n",
      "'FFFFF00000'\n",
      "'FFFF0F0000'\n",
      "'FFFF00F000'\n",
      "'FFF0FF0000'\n",
      "'FFF0F0F000'\n",
      "'FFF0F00F00'\n",
      "'FFF0F000F0'\n",
      "'FFF00FF000'\n",
      "'FFF00F0F00'\n",
      "'FF0FF0F000'\n",
      "'FF0FF00F00'\n",
      "'FF0F0FF000'\n",
      "'FF0F0F0F00'\n",
      "'FF0F0F00F0'\n",
      "'FF0F00FF00'\n",
      "'F0F0F0F0F0'\n"
     ]
    }
   ],
   "source": [
    "variants = [''.join(variant) for variant in variants]\n",
    "print('Found {} variants'.format(len(variants)))\n",
    "print('Variants:')\n",
    "for variant in variants:\n",
    "    print('\\'{}\\''.format(variant))"
   ]
  },
  {
   "cell_type": "code",
   "execution_count": 5,
   "metadata": {},
   "outputs": [],
   "source": [
    "def variant_to_points(variant,arm_length=1):\n",
    "    points = []\n",
    "    for i in range(len(variant)):\n",
    "        if variant[i] == 'F':\n",
    "            x = np.cos(i * np.pi / 4) * arm_length\n",
    "            y = np.sin(i * np.pi / 4) * arm_length\n",
    "            points.append((x, y)) \n",
    "    return points\n",
    "\n",
    "def get_euclidean_matrix(points):\n",
    "    matrix = np.zeros((len(points),len(points)))\n",
    "    for i in range(len(points)):\n",
    "        for j in range(len(points)):\n",
    "            matrix[i,j] = np.sqrt((points[i][0] - points[j][0])**2 + (points[i][1] - points[j][1])**2)\n",
    "    return matrix\n",
    "\n",
    "def variant_to_spatial_variance(variant):\n",
    "    points = variant_to_points(variant)\n",
    "    matrix = get_euclidean_matrix(points)\n",
    "    return np.mean(matrix[np.triu_indices(len(points),1)])\n",
    "\n",
    "\n",
    "def variant_to_left_turns(variant):\n",
    "    # find the indices of the F's\n",
    "    indices = []\n",
    "    for i in range(len(variant)):\n",
    "        if variant[i] == 'F':\n",
    "            indices.append(i)\n",
    "    # for each index, find number of left shifts to the other indices assuming circular\n",
    "    left_turns = []\n",
    "    for i in range(len(indices)):\n",
    "        for_i_th = []\n",
    "        for j in range(len(indices)):\n",
    "            for_i_th.append((indices[j] - indices[i]) % len(variant))\n",
    "        left_turns.append(for_i_th)\n",
    "    return left_turns\n",
    "\n",
    "def variant_to_right_turns(variant):\n",
    "    # find the indices of the F's\n",
    "    indices = []\n",
    "    for i in range(len(variant)):\n",
    "        if variant[i] == 'F':\n",
    "            indices.append(i)\n",
    "    # for each index, find number of left shifts to the other indices assuming circular\n",
    "    right_turns = []\n",
    "    for i in range(len(indices)):\n",
    "        for_i_th = []\n",
    "        for j in range(len(indices)):\n",
    "            for_i_th.append((indices[i] - indices[j]) % len(variant))\n",
    "        right_turns.append(for_i_th)\n",
    "    return right_turns\n",
    "\n",
    "def variant_to_closest_paths(variant):\n",
    "    left_turns = np.array(variant_to_left_turns(variant))\n",
    "    right_turns = np.array(variant_to_right_turns(variant))\n",
    "    # find which turns are the smallest\n",
    "    left_smaller = left_turns < right_turns\n",
    "    closer_turns = np.zeros(left_turns.shape)\n",
    "    closer_turns[left_smaller] = left_turns[left_smaller]\n",
    "    closer_turns[~left_smaller] = -right_turns[~left_smaller]\n",
    "    return closer_turns\n",
    "\n",
    "def variant_to_mean_distance(variant):\n",
    "    paths = np.abs(variant_to_closest_paths(variant))\n",
    "    # remove the 0's\n",
    "    paths = paths[paths > 0]\n",
    "    # we want to maximize the lower bound of the distance and maximize the upper bound of the distance\n",
    "    # count how many are more than the mean\n",
    "    return np.sum(paths > np.mean(paths))/np.sum(paths < np.mean(paths))\n",
    "\n",
    "def path_to_dice_matrix(path):\n",
    "    matrix = np.zeros((len(path),len(path)))\n",
    "    for i in range(len(path)):\n",
    "        for j in range(len(path)):\n",
    "            pi = path[i][path[i] != 0]\n",
    "            pj = path[j][path[j] != 0]\n",
    "            # count how many elements are in the intersection and calculate the dice coefficient\n",
    "            matrix[i,j] = len(set(pi).intersection(pj)) / len(set(pi).union(pj))\n",
    "    return matrix\n",
    "\n",
    "def variant_to_mean_dice_closest(variant):\n",
    "    paths = variant_to_closest_paths(variant)\n",
    "    matrix = path_to_dice_matrix(paths)\n",
    "    return np.mean(matrix[np.triu_indices(len(paths),1)])"
   ]
  },
  {
   "cell_type": "code",
   "execution_count": 6,
   "metadata": {},
   "outputs": [
    {
     "name": "stdout",
     "output_type": "stream",
     "text": [
      "Variant \tSpatial Variance \tPostural heuristic similarity \tPostural Separation\n",
      "FFFFF00000 \t1.29996 \t\t0.36857 \t\t\t0.75000\n",
      "FFFF0F0000 \t1.40820 \t\t0.24286 \t\t\t0.66667\n",
      "FFFF00F000 \t1.40820 \t\t0.20000 \t\t\t1.00000\n",
      "FFF0FF0000 \t1.46678 \t\t0.20000 \t\t\t1.00000\n",
      "FFF0F0F000 \t1.48831 \t\t0.24286 \t\t\t1.00000\n",
      "FFF0F00F00 \t1.40820 \t\t0.20000 \t\t\t1.50000\n",
      "FFF0F000F0 \t1.23865 \t\t0.25714 \t\t\t1.00000\n",
      "FFF00FF000 \t1.46678 \t\t0.32000 \t\t\t1.25000\n",
      "FFF00F0F00 \t1.40820 \t\t0.23429 \t\t\t1.00000\n",
      "FF0FF0F000 \t1.51644 \t\t0.20000 \t\t\t1.50000\n",
      "FF0FF00F00 \t1.46678 \t\t0.36857 \t\t\t2.33333\n",
      "FF0F0FF000 \t1.51644 \t\t0.23429 \t\t\t1.00000\n",
      "FF0F0F0F00 \t1.48831 \t\t0.24286 \t\t\t1.00000\n",
      "FF0F0F00F0 \t1.37502 \t\t0.32000 \t\t\t0.75000\n",
      "FF0F00FF00 \t1.40820 \t\t0.24286 \t\t\t1.33333\n",
      "F0F0F0F0F0 \t1.44853 \t\t1.00000 \t\t\t1.00000\n"
     ]
    }
   ],
   "source": [
    "print('Variant','\\tSpatial Variance','\\tPostural heuristic similarity','\\tPostural Separation')\n",
    "for variant in variants:\n",
    "    print(variant, \"\\t{:.5f}\".format(variant_to_spatial_variance(variant)), \"\\t\\t{:.5f}\".format(variant_to_mean_dice_closest(variant)), \"\\t\\t\\t{:.5f}\".format(variant_to_mean_distance(variant)))"
   ]
  },
  {
   "cell_type": "code",
   "execution_count": 88,
   "metadata": {},
   "outputs": [],
   "source": [
    "# def plot_point(point):\n",
    "#     plt.figure()\n",
    "#     plt.plot(point[:,0], point[:,1], 'o')\n",
    "#     plt.gca().set_aspect('equal', adjustable='box')\n",
    "#     plt.show()\n",
    "\n",
    "# for point in points:\n",
    "#     plot_point(point)\n"
   ]
  },
  {
   "cell_type": "code",
   "execution_count": 89,
   "metadata": {},
   "outputs": [
    {
     "name": "stdout",
     "output_type": "stream",
     "text": [
      "[[0, 1, 2, 3], [7, 0, 1, 2], [6, 7, 0, 1], [5, 6, 7, 0]]\n",
      "[[0, 7, 6, 5], [1, 0, 7, 6], [2, 1, 0, 7], [3, 2, 1, 0]]\n",
      "[[ 0.  1.  2.  3.]\n",
      " [-1.  0.  1.  2.]\n",
      " [-2. -1.  0.  1.]\n",
      " [-3. -2. -1.  0.]]\n"
     ]
    }
   ],
   "source": [
    "print(variant_to_left_turns('FFFF0000'))\n",
    "print(variant_to_right_turns('FFFF0000'))\n",
    "print(variant_to_closest_paths('FFFF0000'))"
   ]
  },
  {
   "cell_type": "code",
   "execution_count": null,
   "metadata": {},
   "outputs": [],
   "source": []
  }
 ],
 "metadata": {
  "kernelspec": {
   "display_name": "base",
   "language": "python",
   "name": "python3"
  },
  "language_info": {
   "codemirror_mode": {
    "name": "ipython",
    "version": 3
   },
   "file_extension": ".py",
   "mimetype": "text/x-python",
   "name": "python",
   "nbconvert_exporter": "python",
   "pygments_lexer": "ipython3",
   "version": "3.9.13"
  }
 },
 "nbformat": 4,
 "nbformat_minor": 2
}
