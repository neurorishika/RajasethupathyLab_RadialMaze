{
 "cells": [
  {
   "cell_type": "code",
   "execution_count": 1,
   "metadata": {},
   "outputs": [],
   "source": [
    "import numpy as np\n",
    "import matplotlib.pyplot as plt\n",
    "import pandas as pd\n",
    "import os"
   ]
  },
  {
   "cell_type": "code",
   "execution_count": 2,
   "metadata": {},
   "outputs": [],
   "source": [
    "def process_data(df):\n",
    "    # process the data\n",
    "    # the first 32 rows are the metadata\n",
    "    metadata = df.iloc[:32,:2]\n",
    "    metadata = metadata.T.reset_index(drop=True)\n",
    "    metadata.columns = metadata.iloc[0]\n",
    "    metadata = metadata.iloc[1:]\n",
    "\n",
    "    # the rest is the data\n",
    "    data = df.iloc[33:]\n",
    "    # make the columns the first row\n",
    "    data.columns = data.iloc[0]\n",
    "    units = data.iloc[1]\n",
    "    data = data.iloc[2:]\n",
    "    data = data.reset_index(drop=True)\n",
    "    data = data.replace('-', np.nan)\n",
    "    # make a arm column\n",
    "    arms = data[[x for x in data.columns if 'In zone' in x]]\n",
    "    arms = arms.iloc[:,1:]\n",
    "    # for each row, find the column with the max value\n",
    "    arms = arms.idxmax(axis=1)\n",
    "    arms = arms.str.replace('Center Stage', 'Arm0')\n",
    "    arms = arms.fillna(-1)\n",
    "    # convert to int\n",
    "    converter = lambda x: int(x.replace('In zone(Arm', '').replace(' / center-point)', '')) if x != -1 else -1\n",
    "    arms = arms.apply(converter).values\n",
    "    # clean the data\n",
    "    # cleaning rules:\n",
    "    # if there is a stretch of -1s, with the same value before and after, replace the -1s with that value\n",
    "    # if there is a stretch of -1s, with different values before and after, replace the -1s with the value with 0\n",
    "    # if there is a stretch of -1s at the beginning or the end of the array, do nothing\n",
    "\n",
    "    # loop through the array\n",
    "    in_stretch = False\n",
    "    stretch_start = 0\n",
    "    for i in range(len(arms)):\n",
    "        if arms[i] == -1 and not in_stretch:\n",
    "            in_stretch = True\n",
    "            stretch_start = i\n",
    "        elif arms[i] == -1 and in_stretch:\n",
    "            pass\n",
    "        else:\n",
    "            if in_stretch:\n",
    "                if stretch_start == 0 or i == len(arms):\n",
    "                    # at the beginning or the end (do nothing)\n",
    "                    pass\n",
    "                else:\n",
    "                    # in the middle\n",
    "                    if arms[stretch_start-1] == arms[i]:\n",
    "                        arms[stretch_start:i] = arms[stretch_start-1]\n",
    "                    else:\n",
    "                        arms[stretch_start:i] = 0\n",
    "                in_stretch = False\n",
    "            else:\n",
    "                pass\n",
    "\n",
    "    # get encounter durations from arms\n",
    "    times = data['Trial time'].values\n",
    "    stretch_start = 0\n",
    "    stretch_start_time = times[0]\n",
    "    current_state = arms[0]\n",
    "\n",
    "\n",
    "    encounter_states = []\n",
    "    encounter_durations = []\n",
    "    current_encounter_no = [0]\n",
    "    for i in range(1,len(arms)):\n",
    "        if arms[i] != current_state:\n",
    "            # encounter ended\n",
    "            encounter_states.append(current_state)\n",
    "            encounter_durations.append(times[i] - stretch_start_time)\n",
    "            current_state = arms[i]\n",
    "            stretch_start_time = times[i]\n",
    "            stretch_start = i\n",
    "        else:\n",
    "            pass\n",
    "        current_encounter_no.append(len(encounter_states))\n",
    "\n",
    "    # add the last state\n",
    "    encounter_states.append(current_state)\n",
    "    encounter_durations.append(times[-1] - stretch_start_time)\n",
    "\n",
    "    # convert to numpy arrays\n",
    "    encounter_states = np.array(encounter_states)\n",
    "    encounter_durations = np.array(encounter_durations)\n",
    "    current_encounter_no = np.array(current_encounter_no)\n",
    "    current_encounter_duration = np.zeros(len(arms))\n",
    "    for i in range(len(encounter_states)):\n",
    "        current_encounter_duration[current_encounter_no == i] = encounter_durations[i]\n",
    "\n",
    "    # set the arms with < 1s duration to 0\n",
    "    arms[np.logical_and(np.logical_and(arms != -1, arms != 0), current_encounter_duration < 1)] = 0\n",
    "    # recalculate the encounter durations\n",
    "    stretch_start = 0\n",
    "    stretch_start_time = times[0]\n",
    "    current_state = arms[0]\n",
    "\n",
    "    encounter_states = []\n",
    "    encounter_durations = []\n",
    "    current_encounter_no = [0]\n",
    "    for i in range(1,len(arms)):\n",
    "        if arms[i] != current_state:\n",
    "            # encounter ended\n",
    "            encounter_states.append(current_state)\n",
    "            encounter_durations.append(times[i] - stretch_start_time)\n",
    "            current_state = arms[i]\n",
    "            stretch_start_time = times[i]\n",
    "            stretch_start = i\n",
    "        else:\n",
    "            pass\n",
    "        current_encounter_no.append(len(encounter_states))\n",
    "\n",
    "    # add the last state\n",
    "    encounter_states.append(current_state)\n",
    "    encounter_durations.append(times[-1] - stretch_start_time)\n",
    "\n",
    "    # convert to numpy arrays\n",
    "    encounter_states = np.array(encounter_states)\n",
    "    encounter_durations = np.array(encounter_durations)\n",
    "    current_encounter_no = np.array(current_encounter_no)\n",
    "    current_encounter_duration = np.zeros(len(arms))\n",
    "    for i in range(len(encounter_states)):\n",
    "        current_encounter_duration[current_encounter_no == i] = encounter_durations[i]\n",
    "\n",
    "    # add the arms, encounter number and encounter duration to the data\n",
    "    data['Arm'] = arms\n",
    "    data['Encounter number'] = current_encounter_no\n",
    "    data['Encounter duration'] = current_encounter_duration\n",
    "\n",
    "    return data, metadata\n"
   ]
  },
  {
   "cell_type": "code",
   "execution_count": 3,
   "metadata": {},
   "outputs": [],
   "source": [
    "# function to find novel sequences\n",
    "def novel_sequence_finder(arm_sequence):\n",
    "    novel_sequences = []\n",
    "    novel_sequences_start = []\n",
    "    novel_sequences_end = []\n",
    "    past_set = set()\n",
    "    index = 0\n",
    "    i = 1\n",
    "    while i < len(arm_sequence):\n",
    "        new_set = set(arm_sequence[index:i])\n",
    "        if len(new_set) > len(past_set):\n",
    "            past_set = new_set\n",
    "        else:\n",
    "            # end of the sequence\n",
    "            past_sequence = arm_sequence[index:i-1]\n",
    "            novel_sequences.append(past_sequence)\n",
    "            novel_sequences_start.append(index)\n",
    "            novel_sequences_end.append(i-1)\n",
    "            # get the repeated arm\n",
    "            repeated_arm = arm_sequence[i-1]\n",
    "            # get the last time the currently repeated arm was novel\n",
    "            last_novel_index = np.where(past_sequence[::-1] == repeated_arm)[0][0]\n",
    "            # reset the index to the last time the sequence was novel\n",
    "            index = i-1-last_novel_index\n",
    "            i = index\n",
    "            # reset the past set\n",
    "            past_set = set()\n",
    "        i += 1\n",
    "    # add the last sequence\n",
    "    past_sequence = arm_sequence[index:]\n",
    "    novel_sequences.append(past_sequence)\n",
    "    novel_sequences_start.append(index)\n",
    "    novel_sequences_end.append(len(arm_sequence)-1)\n",
    "\n",
    "    # convert to numpy arrays\n",
    "    novel_sequences_length = np.array([len(x) for x in novel_sequences])\n",
    "    novel_sequences_start = np.array(novel_sequences_start)\n",
    "    novel_sequences_end = np.array(novel_sequences_end)\n",
    "\n",
    "    return novel_sequences, novel_sequences_length, novel_sequences_start, novel_sequences_end\n",
    "\n",
    "# function to generate sequence from heuristic visitation\n",
    "def generate_sequence_from_distribution(heuristic_visits, n_sequences, sequence_length):\n",
    "    # print(heuristic_visits)\n",
    "    heuristic_map = {\n",
    "        0: -3, # 3rd right\n",
    "        1: -2, # 2nd right\n",
    "        2: -1, # 1st right\n",
    "        3: 0, # same\n",
    "        4: 1, # 1st left\n",
    "        5: 2, # 2nd left\n",
    "        6: 3, # 3rd left\n",
    "        7: 4 # straight\n",
    "    }\n",
    "    heuristic_prob = np.array(heuristic_visits) / np.sum(heuristic_visits)\n",
    "    sequences = []\n",
    "    for i in range(n_sequences):\n",
    "        sequence = []\n",
    "        current_arm = np.random.choice(8)\n",
    "        for j in range(sequence_length):\n",
    "            next_heuristic = np.random.choice(8, p=heuristic_prob)\n",
    "            sequence.append((current_arm + heuristic_map[next_heuristic]) % 8)\n",
    "            current_arm = sequence[-1]\n",
    "        sequences.append(sequence)\n",
    "    # convert to numpy array and add 1 to the arms to make them 1-indexed\n",
    "    sequences = np.array(sequences)+1\n",
    "    return sequences\n",
    "\n",
    "# function to generate sequence from heuristic transition matrix\n",
    "def generate_sequence_from_transition_matrix(transition_matrix, n_sequences, sequence_length):\n",
    "    heuristic_map = {\n",
    "        0: -3, # 3rd right\n",
    "        1: -2, # 2nd right\n",
    "        2: -1, # 1st right\n",
    "        3: 0, # same\n",
    "        4: 1, # 1st left\n",
    "        5: 2, # 2nd left\n",
    "        6: 3, # 3rd left\n",
    "        7: 4 # straight\n",
    "    }\n",
    "    # get the reduced array before the transition matrix is normalized\n",
    "    reduced_array = transition_matrix.sum(axis=1)\n",
    "    reduced_array = reduced_array / reduced_array.sum()\n",
    "    # if any row is all zeros, replace with the reduced array\n",
    "    for i in range(8):\n",
    "        if transition_matrix[i].sum() == 0:\n",
    "            transition_matrix[i] = reduced_array\n",
    "    # normalize the transition matrix\n",
    "    transition_matrix = transition_matrix / transition_matrix.sum(axis=1)[:, np.newaxis]\n",
    "    # print(transition_matrix)\n",
    "    sequences = []\n",
    "    for i in range(n_sequences):\n",
    "        sequence = []\n",
    "        current_arm = np.random.choice(8)\n",
    "        current_heuristic = np.random.choice(8, p=reduced_array)\n",
    "        for j in range(sequence_length):\n",
    "            # apply the heuristic to the current arm\n",
    "            sequence.append((current_arm + heuristic_map[current_heuristic]) % 8)\n",
    "            current_arm = sequence[-1]\n",
    "            # get the next heuristic\n",
    "            current_heuristic = np.random.choice(8, p=transition_matrix[current_heuristic])\n",
    "        sequences.append(sequence)\n",
    "    # convert to numpy array and add 1 to the arms to make them 1-indexed\n",
    "    sequences = np.array(sequences)+1\n",
    "    return sequences"
   ]
  },
  {
   "cell_type": "code",
   "execution_count": 4,
   "metadata": {},
   "outputs": [],
   "source": [
    "def plot_data(data, metadata, session_id, savepath=None):\n",
    "    # convert to arm sequence\n",
    "    for i in range(len(data)):\n",
    "        df = data[i]\n",
    "        meta = metadata[i]\n",
    "        mouse_id = meta['Mouse-ID'].values[0]\n",
    "\n",
    "        # get the arm sequence\n",
    "        arm_sequence = df['Arm'].values\n",
    "        # remove the duplicates except where the arms before and after are the same\n",
    "        diffs = np.concatenate(([1], np.diff(arm_sequence)))\n",
    "        arm_sequence = arm_sequence[diffs != 0]\n",
    "        # remove the -1s and 0s\n",
    "        arm_sequence = arm_sequence[np.logical_and(arm_sequence != -1, arm_sequence != 0)]\n",
    "\n",
    "        # make subplots\n",
    "        fig = plt.figure(figsize=(8,15))\n",
    "\n",
    "        ax = fig.subplots(6,1)\n",
    "        # plot the arm sequence\n",
    "        ax[0].scatter(df['Trial time'], df['Arm'], s=1, c=df['Arm'], cmap='tab10')\n",
    "        ax[0].set_xlabel('Time')\n",
    "        ax[0].set_ylabel('Arm')\n",
    "        ax[0].set_xlim(0, df['Trial time'].values[-1])\n",
    "        ax[0].set_ylim(-0.5, 8.5)\n",
    "        ax[0].set_yticks(np.arange(0,9))\n",
    "        ax[0].set_yticklabels(['Center']+[f'Arm {i}' for i in range(1,9)])\n",
    "        # turn off the box and tick marks\n",
    "        for spine in ax[0].spines.values():\n",
    "            spine.set_visible(False)\n",
    "        ax[0].tick_params(left=False)\n",
    "\n",
    "        # turn off the other subplots\n",
    "        ax[1].axis('off')\n",
    "        ax[2].axis('off')\n",
    "        ax[3].axis('off')\n",
    "        ax[4].axis('off')\n",
    "        ax[5].axis('off')\n",
    "        \n",
    "\n",
    "\n",
    "        # for each arm, how many times it was visited\n",
    "        n_visits = np.zeros(8)\n",
    "        for i in range(8):\n",
    "            n_visits[i] = np.sum(arm_sequence == i+1)\n",
    "\n",
    "        # plot the number of visits in a bar plot on the lower left\n",
    "        ax = fig.add_subplot(6,2,3)\n",
    "        ax.bar(np.arange(8)+1, n_visits)\n",
    "        ax.axhline(np.mean(n_visits), color='black', linestyle='--')\n",
    "        ax.set_xlabel('Arm')\n",
    "        ax.set_ylabel('Number of visits')\n",
    "        ax.set_xticks(np.arange(1,9))\n",
    "        # turn off the box and tick marks\n",
    "        for spine in ax.spines.values():\n",
    "            spine.set_visible(False)\n",
    "        ax.tick_params(left=False)\n",
    "        \n",
    "        # create arm to arm transition matrix\n",
    "        transitions = np.zeros((8,8))\n",
    "        for i in range(len(arm_sequence)-1):\n",
    "            transitions[arm_sequence[i]-1, arm_sequence[i+1]-1] += 1\n",
    "\n",
    "        # plot the transition matrix and show counts\n",
    "        ax = fig.add_subplot(6,2,4)\n",
    "        ax.imshow(transitions, cmap='Blues', vmin=0, vmax=8)\n",
    "        for i in range(8):\n",
    "            for j in range(8):\n",
    "                plt.text(j, i, int(transitions[i, j]) if transitions[i, j] != 0 else '', ha='center', va='center', color='black')\n",
    "        ax.set_xlabel('To Arm')\n",
    "        ax.set_ylabel('From Arm')\n",
    "        ax.set_xticks(np.arange(8))\n",
    "        ax.set_xticklabels(np.arange(1,9))\n",
    "        ax.set_yticks(np.arange(8))\n",
    "        ax.set_yticklabels(np.arange(1,9))\n",
    "        # turn off the box and tick marks\n",
    "        for spine in ax.spines.values():\n",
    "            spine.set_visible(False)\n",
    "        ax.tick_params(left=False)\n",
    "        ax.title.set_text('Arm to Arm Transitions')\n",
    "\n",
    "        # turn to heuristic arm sequence\n",
    "        heuristic_arm_sequence = []\n",
    "        for i in range(1, len(arm_sequence)):\n",
    "            # difference from the previous arm account for circularity\n",
    "            shortest_distance = min(abs(arm_sequence[i] - arm_sequence[i-1]), 8 - abs(arm_sequence[i] - arm_sequence[i-1]))\n",
    "            # get the sign of the difference\n",
    "            sign_diff = np.sign(arm_sequence[i] - arm_sequence[i-1])\n",
    "            sign_direction = +1 if min(abs(arm_sequence[i] - arm_sequence[i-1]), 8 - abs(arm_sequence[i] - arm_sequence[i-1])) == abs(arm_sequence[i] - arm_sequence[i-1]) else -1\n",
    "            heuristic_arm_sequence.append(shortest_distance * sign_diff * sign_direction if shortest_distance != 4 else 4)\n",
    "        heuristic_arm_sequence = np.array(heuristic_arm_sequence)\n",
    "\n",
    "        # plot the heuristic arm sequence\n",
    "        ax = fig.add_subplot(6,1,3)\n",
    "        ax.scatter(np.arange(len(heuristic_arm_sequence)), heuristic_arm_sequence, s=100, c=heuristic_arm_sequence, cmap='RdBu', edgecolor='black', vmin=-3, vmax=3)\n",
    "        ax.set_ylabel('Heuristic')\n",
    "        ax.set_xlim(-1, len(heuristic_arm_sequence)+1)\n",
    "        ax.set_xticks([])\n",
    "        ax.set_ylim(-3.5, 4.5)\n",
    "        ax.set_yticks([-3, -2, -1, 0, 1, 2, 3, 4])\n",
    "        ax.set_yticklabels(['3rd Right', '2nd Right', '1st Right', 'Same', '1st Left', '2nd Left', '3rd Left','Straight'])\n",
    "        # turn off the box and tick marks\n",
    "        for spine in ax.spines.values():\n",
    "            spine.set_visible(False)\n",
    "        ax.tick_params(left=False)\n",
    "\n",
    "        # for each heuristic, how many times it was utilized\n",
    "        n_visits = np.zeros(8)\n",
    "        for i in np.arange(-3, 5):\n",
    "            n_visits[i+3] = np.sum(heuristic_arm_sequence == i)\n",
    "\n",
    "        # plot the number of visits in a bar plot on the lower right\n",
    "        ax = fig.add_subplot(6,2,7)\n",
    "        ax.bar(np.arange(-3,5), n_visits)\n",
    "        ax.set_xlabel('Heuristic Used')\n",
    "        ax.set_ylabel('Number of occurrences')\n",
    "        ax.set_xticks(np.arange(-3,5))\n",
    "        ax.set_xticklabels(['3rd Right', '2nd Right', '1st Right', 'Same', '1st Left', '2nd Left', '3rd Left','Straight'], rotation=45)\n",
    "        # turn off the box and tick marks\n",
    "        for spine in ax.spines.values():\n",
    "            spine.set_visible(False)\n",
    "        ax.tick_params(left=False)\n",
    "\n",
    "        # create heuristic to heuristic transition matrix\n",
    "        transitions = np.zeros((8,8))\n",
    "        for i in range(len(heuristic_arm_sequence)-1):\n",
    "            transitions[heuristic_arm_sequence[i]+3, heuristic_arm_sequence[i+1]+3] += 1\n",
    "\n",
    "        # plot the transition matrix and show counts\n",
    "        ax = fig.add_subplot(6,2,8)\n",
    "        ax.imshow(transitions, cmap='Blues', vmin=0, vmax=8)\n",
    "        for i in range(8):\n",
    "            for j in range(8):\n",
    "                plt.text(j, i, int(transitions[i, j]) if transitions[i, j] != 0 else '', ha='center', va='center', color='black')\n",
    "        ax.set_xlabel('To Heuristic')\n",
    "        ax.set_ylabel('From Heuristic')\n",
    "        ax.set_xticks(np.arange(8))\n",
    "        ax.set_xticklabels(['3rd Right', '2nd Right', '1st Right', 'Same', '1st Left', '2nd Left', '3rd Left','Straight'], rotation=90)\n",
    "        ax.set_yticks(np.arange(8))\n",
    "        ax.set_yticklabels(['3rd Right', '2nd Right', '1st Right', 'Same', '1st Left', '2nd Left', '3rd Left','Straight'], rotation=0)\n",
    "        # turn off the box and tick marks\n",
    "        for spine in ax.spines.values():\n",
    "            spine.set_visible(False)\n",
    "        ax.tick_params(left=False)\n",
    "        ax.title.set_text('Heuristic to Heuristic Transitions')\n",
    "\n",
    "        # get the novel sequences\n",
    "        novel_sequences, novel_sequences_length, novel_sequences_start, novel_sequences_end = novel_sequence_finder(arm_sequence)\n",
    "        \n",
    "        # plot the arm sequence (similar to the heuristic arm sequence)\n",
    "        ax = fig.add_subplot(3,1,3)\n",
    "        ax.scatter(np.arange(len(arm_sequence)), arm_sequence, s=100, c=arm_sequence, cmap='tab10', edgecolor='black', vmin=1, vmax=8)\n",
    "        # add lines for novel sequences\n",
    "        y_pos = 10\n",
    "        for i in range(len(novel_sequences_start)):\n",
    "            if i > 0 and novel_sequences_start[i] < novel_sequences_end[i-1]:\n",
    "                y_pos += 1\n",
    "            else:\n",
    "                y_pos = 10\n",
    "            ax.plot([novel_sequences_start[i], novel_sequences_end[i]-1], [y_pos, y_pos], color=plt.cm.RdBu(novel_sequences_length[i]/8), linewidth=3)\n",
    "        ax.set_xlim(-1, len(arm_sequence)+1)\n",
    "        ax.set_xticks([])\n",
    "        ax.set_yticks([])\n",
    "        ax.set_ylabel('Novel Sequences')\n",
    "        # turn off the box and tick marks\n",
    "        for spine in ax.spines.values():\n",
    "            spine.set_visible(False)\n",
    "        ax.tick_params(left=False)\n",
    "\n",
    "        # generate heuristic distribution bases sequences\n",
    "        seq_length = len(heuristic_arm_sequence)\n",
    "        heuristic_dist_seqs = generate_sequence_from_distribution(n_visits, 100, seq_length)\n",
    "        # get the novel sequence lengths\n",
    "        novel_seq_len_dist = np.concatenate([novel_sequence_finder(x)[1] for x in heuristic_dist_seqs])\n",
    "\n",
    "        # generate heuristic transition matrix based sequences\n",
    "        heuristic_trans_seqs = generate_sequence_from_transition_matrix(transitions, 100, seq_length)\n",
    "        # get the novel sequence lengths\n",
    "        novel_seq_len_trans = np.concatenate([novel_sequence_finder(x)[1] for x in heuristic_trans_seqs]).flatten()\n",
    "\n",
    "        # generate shuffled sequences\n",
    "        shuffled_seqs = []\n",
    "        for i in range(100):\n",
    "            shuffled_seqs.append(np.random.permutation(arm_sequence))\n",
    "        # get the novel sequence lengths\n",
    "        novel_seq_len_shuffled = np.concatenate([novel_sequence_finder(x)[1] for x in shuffled_seqs]).flatten()\n",
    "\n",
    "\n",
    "        # add a axis within the plot for the novel sequences histogram (top left of the novel sequences plot)\n",
    "        ax = fig.add_axes([0.15, 0.2, 0.2, 0.05])\n",
    "        values, counts = np.unique(novel_sequences_length, return_counts=True)\n",
    "        counts = counts / np.sum(counts)\n",
    "        ax.bar(values, counts, color='C0', label='Data')\n",
    "        # add the mean line\n",
    "        ax.axvline(np.mean(novel_sequences_length), color='black', linestyle='--')\n",
    "\n",
    "        # plot the other novel sequence length distributions in the same axis\n",
    "        values, counts = np.unique(novel_seq_len_dist, return_counts=True)\n",
    "        counts = counts / np.sum(counts)\n",
    "        ax.plot(values, counts, color='grey', label='H. Dist. Samples')\n",
    "        values, counts = np.unique(novel_seq_len_trans, return_counts=True)\n",
    "        counts = counts / np.sum(counts)\n",
    "        ax.plot(values, counts, color='black', label='H. Trans. Samples')\n",
    "        values, counts = np.unique(novel_seq_len_shuffled, return_counts=True)\n",
    "        counts = counts / np.sum(counts)\n",
    "        ax.plot(values, counts, color='red', label='Shuffled Samples')\n",
    "    \n",
    "        ax.set_xlabel('Novel Sequence Length')\n",
    "        ax.set_ylabel('Frequency')\n",
    "        ax.set_xticks(np.arange(min(values), max(values)+1))\n",
    "        ax.set_xticklabels(np.arange(min(values), max(values)+1))\n",
    "        # turn off the box and tick marks\n",
    "        for spine in ax.spines.values():\n",
    "            spine.set_visible(False)\n",
    "        ax.tick_params(left=False)\n",
    "        # make the background transparent\n",
    "        ax.patch.set_alpha(0.0)\n",
    "\n",
    "        # add legend\n",
    "        ax.legend(loc='center right', bbox_to_anchor=(2.2, 0.5), frameon=False)\n",
    "\n",
    "\n",
    "\n",
    "        # add suptitle\n",
    "        fig.suptitle(f'Mouse {mouse_id} {session_id} Sequence Analysis', fontsize=16)\n",
    "        plt.tight_layout()\n",
    "        if savepath is not None:\n",
    "            # create the directory if it doesn't exist\n",
    "            if not os.path.exists(savepath):\n",
    "                os.makedirs(savepath)\n",
    "            plt.savefig(os.path.join(savepath, f'{mouse_id}_{session_id}.png'))\n",
    "            plt.close()\n",
    "        else:\n",
    "            plt.show()\n"
   ]
  },
  {
   "cell_type": "markdown",
   "metadata": {},
   "source": [
    "# Baseline Day"
   ]
  },
  {
   "cell_type": "code",
   "execution_count": 5,
   "metadata": {},
   "outputs": [
    {
     "name": "stdout",
     "output_type": "stream",
     "text": [
      "['Raw data-8arm_pilot-Trial     2.xlsx', 'Raw data-8arm_pilot-Trial     3.xlsx', 'Raw data-8arm_pilot-Trial     4.xlsx', 'Raw data-8arm_pilot-Trial     5.xlsx']\n"
     ]
    }
   ],
   "source": [
    "baseline_folder = '../data/pilot_data/2-2-24/'\n",
    "# find xlsx files in the folder\n",
    "data_files = os.listdir(baseline_folder)\n",
    "data_files = [f for f in data_files if f.endswith('.xlsx')]\n",
    "# sort the files and keep only last 4\n",
    "data_files.sort()\n",
    "data_files = data_files[-4:]\n",
    "print(data_files)"
   ]
  },
  {
   "cell_type": "code",
   "execution_count": 6,
   "metadata": {},
   "outputs": [],
   "source": [
    "# load the data\n",
    "dfs = [pd.read_excel(baseline_folder + f, engine='openpyxl') for f in data_files]"
   ]
  },
  {
   "cell_type": "code",
   "execution_count": 7,
   "metadata": {},
   "outputs": [
    {
     "name": "stderr",
     "output_type": "stream",
     "text": [
      "/var/folders/yj/5_b3w2q176x67w94977kdrx80000gn/T/ipykernel_3162/2953697463.py:21: FutureWarning: The behavior of DataFrame.idxmax with all-NA values, or any-NA and skipna=False, is deprecated. In a future version this will raise ValueError\n",
      "  arms = arms.idxmax(axis=1)\n",
      "/var/folders/yj/5_b3w2q176x67w94977kdrx80000gn/T/ipykernel_3162/2953697463.py:21: FutureWarning: The behavior of DataFrame.idxmax with all-NA values, or any-NA and skipna=False, is deprecated. In a future version this will raise ValueError\n",
      "  arms = arms.idxmax(axis=1)\n"
     ]
    }
   ],
   "source": [
    "metadata = []\n",
    "data = []\n",
    "for df in dfs:\n",
    "    d, m = process_data(df)\n",
    "    metadata.append(m)\n",
    "    data.append(d)"
   ]
  },
  {
   "cell_type": "code",
   "execution_count": 8,
   "metadata": {},
   "outputs": [
    {
     "name": "stderr",
     "output_type": "stream",
     "text": [
      "/var/folders/yj/5_b3w2q176x67w94977kdrx80000gn/T/ipykernel_3162/2455182306.py:226: UserWarning: This figure includes Axes that are not compatible with tight_layout, so results might be incorrect.\n",
      "  plt.tight_layout()\n",
      "/var/folders/yj/5_b3w2q176x67w94977kdrx80000gn/T/ipykernel_3162/2455182306.py:226: UserWarning: This figure includes Axes that are not compatible with tight_layout, so results might be incorrect.\n",
      "  plt.tight_layout()\n",
      "/var/folders/yj/5_b3w2q176x67w94977kdrx80000gn/T/ipykernel_3162/2455182306.py:226: UserWarning: This figure includes Axes that are not compatible with tight_layout, so results might be incorrect.\n",
      "  plt.tight_layout()\n",
      "/var/folders/yj/5_b3w2q176x67w94977kdrx80000gn/T/ipykernel_3162/2455182306.py:226: UserWarning: This figure includes Axes that are not compatible with tight_layout, so results might be incorrect.\n",
      "  plt.tight_layout()\n"
     ]
    }
   ],
   "source": [
    "# plot the data\n",
    "plot_data(data, metadata, 'baseline', savepath='../processed_data/pilot_data/')"
   ]
  },
  {
   "cell_type": "markdown",
   "metadata": {},
   "source": [
    "# Day 1 (No Weighing Boat)"
   ]
  },
  {
   "cell_type": "code",
   "execution_count": 9,
   "metadata": {},
   "outputs": [
    {
     "name": "stdout",
     "output_type": "stream",
     "text": [
      "['Raw data-8arm_pilot-Trial     7.xlsx', 'Raw data-8arm_pilot-Trial     8.xlsx', 'Raw data-8arm_pilot-Trial     9.xlsx', 'Raw data-8arm_pilot-Trial    10.xlsx']\n"
     ]
    }
   ],
   "source": [
    "day1_folder = '../data/pilot_data/2-5-24/'\n",
    "# find xlsx files in the folder\n",
    "data_files = os.listdir(day1_folder)\n",
    "data_files = [f for f in data_files if f.endswith('.xlsx')]\n",
    "# sort the files and keep only last 4\n",
    "data_files.sort()\n",
    "data_files = data_files[-4:]\n",
    "print(data_files)"
   ]
  },
  {
   "cell_type": "code",
   "execution_count": 10,
   "metadata": {},
   "outputs": [],
   "source": [
    "# load the data\n",
    "dfs = [pd.read_excel(day1_folder + f, engine='openpyxl') for f in data_files]"
   ]
  },
  {
   "cell_type": "code",
   "execution_count": 11,
   "metadata": {},
   "outputs": [
    {
     "name": "stderr",
     "output_type": "stream",
     "text": [
      "/var/folders/yj/5_b3w2q176x67w94977kdrx80000gn/T/ipykernel_3162/2953697463.py:21: FutureWarning: The behavior of DataFrame.idxmax with all-NA values, or any-NA and skipna=False, is deprecated. In a future version this will raise ValueError\n",
      "  arms = arms.idxmax(axis=1)\n"
     ]
    }
   ],
   "source": [
    "metadata = []\n",
    "data = []\n",
    "for df in dfs:\n",
    "    d, m = process_data(df)\n",
    "    metadata.append(m)\n",
    "    data.append(d)"
   ]
  },
  {
   "cell_type": "code",
   "execution_count": 12,
   "metadata": {},
   "outputs": [
    {
     "name": "stderr",
     "output_type": "stream",
     "text": [
      "/var/folders/yj/5_b3w2q176x67w94977kdrx80000gn/T/ipykernel_3162/2455182306.py:226: UserWarning: This figure includes Axes that are not compatible with tight_layout, so results might be incorrect.\n",
      "  plt.tight_layout()\n",
      "/var/folders/yj/5_b3w2q176x67w94977kdrx80000gn/T/ipykernel_3162/2455182306.py:226: UserWarning: This figure includes Axes that are not compatible with tight_layout, so results might be incorrect.\n",
      "  plt.tight_layout()\n",
      "/var/folders/yj/5_b3w2q176x67w94977kdrx80000gn/T/ipykernel_3162/2455182306.py:226: UserWarning: This figure includes Axes that are not compatible with tight_layout, so results might be incorrect.\n",
      "  plt.tight_layout()\n",
      "/var/folders/yj/5_b3w2q176x67w94977kdrx80000gn/T/ipykernel_3162/2455182306.py:226: UserWarning: This figure includes Axes that are not compatible with tight_layout, so results might be incorrect.\n",
      "  plt.tight_layout()\n"
     ]
    }
   ],
   "source": [
    "# plot the data\n",
    "plot_data(data, metadata, 'day1', savepath='../processed_data/pilot_data/')"
   ]
  },
  {
   "cell_type": "markdown",
   "metadata": {},
   "source": [
    "# Day 2 (Weighing Boat added)"
   ]
  },
  {
   "cell_type": "code",
   "execution_count": 13,
   "metadata": {},
   "outputs": [
    {
     "name": "stdout",
     "output_type": "stream",
     "text": [
      "['Raw data-8arm_pilot-Trial    11.xlsx', 'Raw data-8arm_pilot-Trial    12.xlsx', 'Raw data-8arm_pilot-Trial    13.xlsx', 'Raw data-8arm_pilot-Trial    14.xlsx']\n"
     ]
    }
   ],
   "source": [
    "day2_folder = '../data/pilot_data/2-6-24/'\n",
    "# find xlsx files in the folder\n",
    "data_files = os.listdir(day2_folder)\n",
    "data_files = [f for f in data_files if f.endswith('.xlsx')]\n",
    "# sort the files and keep only last 4\n",
    "data_files.sort()\n",
    "data_files = data_files[-4:]\n",
    "print(data_files)"
   ]
  },
  {
   "cell_type": "code",
   "execution_count": 14,
   "metadata": {},
   "outputs": [],
   "source": [
    "# load the data\n",
    "dfs = [pd.read_excel(day2_folder + f, engine='openpyxl') for f in data_files]"
   ]
  },
  {
   "cell_type": "code",
   "execution_count": 15,
   "metadata": {},
   "outputs": [
    {
     "name": "stderr",
     "output_type": "stream",
     "text": [
      "/var/folders/yj/5_b3w2q176x67w94977kdrx80000gn/T/ipykernel_3162/2953697463.py:21: FutureWarning: The behavior of DataFrame.idxmax with all-NA values, or any-NA and skipna=False, is deprecated. In a future version this will raise ValueError\n",
      "  arms = arms.idxmax(axis=1)\n",
      "/var/folders/yj/5_b3w2q176x67w94977kdrx80000gn/T/ipykernel_3162/2953697463.py:21: FutureWarning: The behavior of DataFrame.idxmax with all-NA values, or any-NA and skipna=False, is deprecated. In a future version this will raise ValueError\n",
      "  arms = arms.idxmax(axis=1)\n"
     ]
    }
   ],
   "source": [
    "metadata = []\n",
    "data = []\n",
    "for df in dfs:\n",
    "    d, m = process_data(df)\n",
    "    metadata.append(m)\n",
    "    data.append(d)"
   ]
  },
  {
   "cell_type": "code",
   "execution_count": 16,
   "metadata": {},
   "outputs": [
    {
     "name": "stderr",
     "output_type": "stream",
     "text": [
      "/var/folders/yj/5_b3w2q176x67w94977kdrx80000gn/T/ipykernel_3162/2455182306.py:226: UserWarning: This figure includes Axes that are not compatible with tight_layout, so results might be incorrect.\n",
      "  plt.tight_layout()\n",
      "/var/folders/yj/5_b3w2q176x67w94977kdrx80000gn/T/ipykernel_3162/2455182306.py:226: UserWarning: This figure includes Axes that are not compatible with tight_layout, so results might be incorrect.\n",
      "  plt.tight_layout()\n",
      "/var/folders/yj/5_b3w2q176x67w94977kdrx80000gn/T/ipykernel_3162/2455182306.py:226: UserWarning: This figure includes Axes that are not compatible with tight_layout, so results might be incorrect.\n",
      "  plt.tight_layout()\n",
      "/var/folders/yj/5_b3w2q176x67w94977kdrx80000gn/T/ipykernel_3162/2455182306.py:226: UserWarning: This figure includes Axes that are not compatible with tight_layout, so results might be incorrect.\n",
      "  plt.tight_layout()\n"
     ]
    }
   ],
   "source": [
    "# plot the data\n",
    "plot_data(data, metadata, 'day2', savepath='../processed_data/pilot_data/')"
   ]
  },
  {
   "cell_type": "markdown",
   "metadata": {},
   "source": [
    "# Day 3 (Weighing Boat present)"
   ]
  },
  {
   "cell_type": "code",
   "execution_count": 17,
   "metadata": {},
   "outputs": [
    {
     "name": "stdout",
     "output_type": "stream",
     "text": [
      "['Raw data-8arm_pilot-Trial    15.xlsx', 'Raw data-8arm_pilot-Trial    16.xlsx', 'Raw data-8arm_pilot-Trial    17.xlsx', 'Raw data-8arm_pilot-Trial    18.xlsx']\n"
     ]
    }
   ],
   "source": [
    "day3_folder = '../data/pilot_data/2-7-24/'\n",
    "# find xlsx files in the folder\n",
    "data_files = os.listdir(day3_folder)\n",
    "data_files = [f for f in data_files if f.endswith('.xlsx')]\n",
    "# sort the files and keep only last 4\n",
    "data_files.sort()\n",
    "data_files = data_files[-4:]\n",
    "print(data_files)"
   ]
  },
  {
   "cell_type": "code",
   "execution_count": 18,
   "metadata": {},
   "outputs": [],
   "source": [
    "# load the data\n",
    "dfs = [pd.read_excel(day3_folder + f, engine='openpyxl') for f in data_files]"
   ]
  },
  {
   "cell_type": "code",
   "execution_count": 19,
   "metadata": {},
   "outputs": [
    {
     "name": "stderr",
     "output_type": "stream",
     "text": [
      "/var/folders/yj/5_b3w2q176x67w94977kdrx80000gn/T/ipykernel_3162/2953697463.py:21: FutureWarning: The behavior of DataFrame.idxmax with all-NA values, or any-NA and skipna=False, is deprecated. In a future version this will raise ValueError\n",
      "  arms = arms.idxmax(axis=1)\n",
      "/var/folders/yj/5_b3w2q176x67w94977kdrx80000gn/T/ipykernel_3162/2953697463.py:21: FutureWarning: The behavior of DataFrame.idxmax with all-NA values, or any-NA and skipna=False, is deprecated. In a future version this will raise ValueError\n",
      "  arms = arms.idxmax(axis=1)\n",
      "/var/folders/yj/5_b3w2q176x67w94977kdrx80000gn/T/ipykernel_3162/2953697463.py:21: FutureWarning: The behavior of DataFrame.idxmax with all-NA values, or any-NA and skipna=False, is deprecated. In a future version this will raise ValueError\n",
      "  arms = arms.idxmax(axis=1)\n"
     ]
    }
   ],
   "source": [
    "metadata = []\n",
    "data = []\n",
    "for df in dfs:\n",
    "    d, m = process_data(df)\n",
    "    metadata.append(m)\n",
    "    data.append(d)"
   ]
  },
  {
   "cell_type": "code",
   "execution_count": 20,
   "metadata": {},
   "outputs": [
    {
     "name": "stderr",
     "output_type": "stream",
     "text": [
      "/var/folders/yj/5_b3w2q176x67w94977kdrx80000gn/T/ipykernel_3162/2455182306.py:226: UserWarning: This figure includes Axes that are not compatible with tight_layout, so results might be incorrect.\n",
      "  plt.tight_layout()\n",
      "/var/folders/yj/5_b3w2q176x67w94977kdrx80000gn/T/ipykernel_3162/2455182306.py:226: UserWarning: This figure includes Axes that are not compatible with tight_layout, so results might be incorrect.\n",
      "  plt.tight_layout()\n",
      "/var/folders/yj/5_b3w2q176x67w94977kdrx80000gn/T/ipykernel_3162/2455182306.py:226: UserWarning: This figure includes Axes that are not compatible with tight_layout, so results might be incorrect.\n",
      "  plt.tight_layout()\n",
      "/var/folders/yj/5_b3w2q176x67w94977kdrx80000gn/T/ipykernel_3162/2455182306.py:226: UserWarning: This figure includes Axes that are not compatible with tight_layout, so results might be incorrect.\n",
      "  plt.tight_layout()\n"
     ]
    }
   ],
   "source": [
    "# plot the data\n",
    "plot_data(data, metadata, 'day3', savepath='../processed_data/pilot_data/')"
   ]
  },
  {
   "cell_type": "markdown",
   "metadata": {},
   "source": [
    "# Day 4 (Weighing Boat present)"
   ]
  },
  {
   "cell_type": "code",
   "execution_count": 21,
   "metadata": {},
   "outputs": [
    {
     "name": "stdout",
     "output_type": "stream",
     "text": [
      "['Raw data-8arm_pilot-Trial    19.xlsx', 'Raw data-8arm_pilot-Trial    20.xlsx', 'Raw data-8arm_pilot-Trial    21.xlsx', 'Raw data-8arm_pilot-Trial    22.xlsx']\n"
     ]
    }
   ],
   "source": [
    "day4_folder = '../data/pilot_data/2-8-24/'\n",
    "# find xlsx files in the folder\n",
    "data_files = os.listdir(day4_folder)\n",
    "data_files = [f for f in data_files if f.endswith('.xlsx')]\n",
    "# sort the files and keep only last 4\n",
    "data_files.sort()\n",
    "data_files = data_files[-4:]\n",
    "print(data_files)"
   ]
  },
  {
   "cell_type": "code",
   "execution_count": 22,
   "metadata": {},
   "outputs": [],
   "source": [
    "# load the data\n",
    "dfs = [pd.read_excel(day4_folder + f, engine='openpyxl') for f in data_files]"
   ]
  },
  {
   "cell_type": "code",
   "execution_count": 23,
   "metadata": {},
   "outputs": [
    {
     "name": "stderr",
     "output_type": "stream",
     "text": [
      "/var/folders/yj/5_b3w2q176x67w94977kdrx80000gn/T/ipykernel_3162/2953697463.py:21: FutureWarning: The behavior of DataFrame.idxmax with all-NA values, or any-NA and skipna=False, is deprecated. In a future version this will raise ValueError\n",
      "  arms = arms.idxmax(axis=1)\n",
      "/var/folders/yj/5_b3w2q176x67w94977kdrx80000gn/T/ipykernel_3162/2953697463.py:21: FutureWarning: The behavior of DataFrame.idxmax with all-NA values, or any-NA and skipna=False, is deprecated. In a future version this will raise ValueError\n",
      "  arms = arms.idxmax(axis=1)\n",
      "/var/folders/yj/5_b3w2q176x67w94977kdrx80000gn/T/ipykernel_3162/2953697463.py:21: FutureWarning: The behavior of DataFrame.idxmax with all-NA values, or any-NA and skipna=False, is deprecated. In a future version this will raise ValueError\n",
      "  arms = arms.idxmax(axis=1)\n"
     ]
    }
   ],
   "source": [
    "metadata = []\n",
    "data = []\n",
    "for df in dfs:\n",
    "    d, m = process_data(df)\n",
    "    metadata.append(m)\n",
    "    data.append(d)"
   ]
  },
  {
   "cell_type": "code",
   "execution_count": 24,
   "metadata": {},
   "outputs": [
    {
     "name": "stderr",
     "output_type": "stream",
     "text": [
      "/var/folders/yj/5_b3w2q176x67w94977kdrx80000gn/T/ipykernel_3162/2455182306.py:226: UserWarning: This figure includes Axes that are not compatible with tight_layout, so results might be incorrect.\n",
      "  plt.tight_layout()\n",
      "/var/folders/yj/5_b3w2q176x67w94977kdrx80000gn/T/ipykernel_3162/2455182306.py:226: UserWarning: This figure includes Axes that are not compatible with tight_layout, so results might be incorrect.\n",
      "  plt.tight_layout()\n",
      "/var/folders/yj/5_b3w2q176x67w94977kdrx80000gn/T/ipykernel_3162/2455182306.py:226: UserWarning: This figure includes Axes that are not compatible with tight_layout, so results might be incorrect.\n",
      "  plt.tight_layout()\n",
      "/var/folders/yj/5_b3w2q176x67w94977kdrx80000gn/T/ipykernel_3162/2455182306.py:226: UserWarning: This figure includes Axes that are not compatible with tight_layout, so results might be incorrect.\n",
      "  plt.tight_layout()\n"
     ]
    }
   ],
   "source": [
    "# plot the data\n",
    "plot_data(data, metadata, 'day4', savepath='../processed_data/pilot_data/')"
   ]
  },
  {
   "cell_type": "markdown",
   "metadata": {},
   "source": [
    "# Day 5 (Remove after visiting all 4 rewarded arms) - Session 1"
   ]
  },
  {
   "cell_type": "code",
   "execution_count": 33,
   "metadata": {},
   "outputs": [
    {
     "name": "stdout",
     "output_type": "stream",
     "text": [
      "['Raw data-8arm_pilot-Trial    23.xlsx', 'Raw data-8arm_pilot-Trial    24.xlsx', 'Raw data-8arm_pilot-Trial    25.xlsx', 'Raw data-8arm_pilot-Trial    26.xlsx']\n"
     ]
    }
   ],
   "source": [
    "day5_ses1_folder = '../data/pilot_data/2-9-24-1/'\n",
    "# find xlsx files in the folder\n",
    "data_files = os.listdir(day5_ses1_folder)\n",
    "data_files = [f for f in data_files if f.endswith('.xlsx')]\n",
    "# sort the files and keep only last 4\n",
    "data_files.sort()\n",
    "data_files = data_files[-4:]\n",
    "print(data_files)"
   ]
  },
  {
   "cell_type": "code",
   "execution_count": 34,
   "metadata": {},
   "outputs": [],
   "source": [
    "# load the data\n",
    "dfs = [pd.read_excel(day5_ses1_folder + f, engine='openpyxl') for f in data_files]"
   ]
  },
  {
   "cell_type": "code",
   "execution_count": 35,
   "metadata": {},
   "outputs": [
    {
     "name": "stderr",
     "output_type": "stream",
     "text": [
      "/var/folders/yj/5_b3w2q176x67w94977kdrx80000gn/T/ipykernel_3162/2953697463.py:21: FutureWarning: The behavior of DataFrame.idxmax with all-NA values, or any-NA and skipna=False, is deprecated. In a future version this will raise ValueError\n",
      "  arms = arms.idxmax(axis=1)\n",
      "/var/folders/yj/5_b3w2q176x67w94977kdrx80000gn/T/ipykernel_3162/2953697463.py:21: FutureWarning: The behavior of DataFrame.idxmax with all-NA values, or any-NA and skipna=False, is deprecated. In a future version this will raise ValueError\n",
      "  arms = arms.idxmax(axis=1)\n",
      "/var/folders/yj/5_b3w2q176x67w94977kdrx80000gn/T/ipykernel_3162/2953697463.py:21: FutureWarning: The behavior of DataFrame.idxmax with all-NA values, or any-NA and skipna=False, is deprecated. In a future version this will raise ValueError\n",
      "  arms = arms.idxmax(axis=1)\n",
      "/var/folders/yj/5_b3w2q176x67w94977kdrx80000gn/T/ipykernel_3162/2953697463.py:21: FutureWarning: The behavior of DataFrame.idxmax with all-NA values, or any-NA and skipna=False, is deprecated. In a future version this will raise ValueError\n",
      "  arms = arms.idxmax(axis=1)\n"
     ]
    }
   ],
   "source": [
    "metadata = []\n",
    "data = []\n",
    "for df in dfs:\n",
    "    d, m = process_data(df)\n",
    "    metadata.append(m)\n",
    "    data.append(d)"
   ]
  },
  {
   "cell_type": "code",
   "execution_count": 36,
   "metadata": {},
   "outputs": [
    {
     "name": "stderr",
     "output_type": "stream",
     "text": [
      "/var/folders/yj/5_b3w2q176x67w94977kdrx80000gn/T/ipykernel_3162/2455182306.py:226: UserWarning: This figure includes Axes that are not compatible with tight_layout, so results might be incorrect.\n",
      "  plt.tight_layout()\n",
      "/var/folders/yj/5_b3w2q176x67w94977kdrx80000gn/T/ipykernel_3162/2455182306.py:226: UserWarning: This figure includes Axes that are not compatible with tight_layout, so results might be incorrect.\n",
      "  plt.tight_layout()\n",
      "/var/folders/yj/5_b3w2q176x67w94977kdrx80000gn/T/ipykernel_3162/2455182306.py:226: UserWarning: This figure includes Axes that are not compatible with tight_layout, so results might be incorrect.\n",
      "  plt.tight_layout()\n",
      "/var/folders/yj/5_b3w2q176x67w94977kdrx80000gn/T/ipykernel_3162/2455182306.py:226: UserWarning: This figure includes Axes that are not compatible with tight_layout, so results might be incorrect.\n",
      "  plt.tight_layout()\n"
     ]
    }
   ],
   "source": [
    "# plot the data\n",
    "plot_data(data, metadata, 'day5-ses1', savepath='../processed_data/pilot_data/')"
   ]
  },
  {
   "cell_type": "markdown",
   "metadata": {},
   "source": [
    "# Day 5 (Remove after visiting all 4 rewarded arms) - Session 2"
   ]
  },
  {
   "cell_type": "code",
   "execution_count": 37,
   "metadata": {},
   "outputs": [
    {
     "name": "stdout",
     "output_type": "stream",
     "text": [
      "['Raw data-8arm_pilot-Trial    27.xlsx', 'Raw data-8arm_pilot-Trial    28.xlsx', 'Raw data-8arm_pilot-Trial    29.xlsx', 'Raw data-8arm_pilot-Trial    30.xlsx']\n"
     ]
    }
   ],
   "source": [
    "day5_ses2_folder = '../data/pilot_data/2-9-24-2/'\n",
    "# find xlsx files in the folder\n",
    "data_files = os.listdir(day5_ses2_folder)\n",
    "data_files = [f for f in data_files if f.endswith('.xlsx')]\n",
    "# sort the files and keep only last 4\n",
    "data_files.sort()\n",
    "data_files = data_files[-4:]\n",
    "print(data_files)"
   ]
  },
  {
   "cell_type": "code",
   "execution_count": 38,
   "metadata": {},
   "outputs": [],
   "source": [
    "# load the data\n",
    "dfs = [pd.read_excel(day5_ses2_folder + f, engine='openpyxl') for f in data_files]"
   ]
  },
  {
   "cell_type": "code",
   "execution_count": 39,
   "metadata": {},
   "outputs": [
    {
     "name": "stderr",
     "output_type": "stream",
     "text": [
      "/var/folders/yj/5_b3w2q176x67w94977kdrx80000gn/T/ipykernel_3162/2953697463.py:21: FutureWarning: The behavior of DataFrame.idxmax with all-NA values, or any-NA and skipna=False, is deprecated. In a future version this will raise ValueError\n",
      "  arms = arms.idxmax(axis=1)\n"
     ]
    }
   ],
   "source": [
    "metadata = []\n",
    "data = []\n",
    "for df in dfs:\n",
    "    d, m = process_data(df)\n",
    "    metadata.append(m)\n",
    "    data.append(d)"
   ]
  },
  {
   "cell_type": "code",
   "execution_count": 40,
   "metadata": {},
   "outputs": [
    {
     "name": "stderr",
     "output_type": "stream",
     "text": [
      "/var/folders/yj/5_b3w2q176x67w94977kdrx80000gn/T/ipykernel_3162/2455182306.py:226: UserWarning: This figure includes Axes that are not compatible with tight_layout, so results might be incorrect.\n",
      "  plt.tight_layout()\n",
      "/var/folders/yj/5_b3w2q176x67w94977kdrx80000gn/T/ipykernel_3162/2455182306.py:226: UserWarning: This figure includes Axes that are not compatible with tight_layout, so results might be incorrect.\n",
      "  plt.tight_layout()\n",
      "/var/folders/yj/5_b3w2q176x67w94977kdrx80000gn/T/ipykernel_3162/2455182306.py:226: UserWarning: This figure includes Axes that are not compatible with tight_layout, so results might be incorrect.\n",
      "  plt.tight_layout()\n",
      "/var/folders/yj/5_b3w2q176x67w94977kdrx80000gn/T/ipykernel_3162/2455182306.py:226: UserWarning: This figure includes Axes that are not compatible with tight_layout, so results might be incorrect.\n",
      "  plt.tight_layout()\n"
     ]
    }
   ],
   "source": [
    "# plot the data\n",
    "plot_data(data, metadata, 'day5-ses2', savepath='../processed_data/pilot_data/')"
   ]
  }
 ],
 "metadata": {
  "kernelspec": {
   "display_name": ".venv",
   "language": "python",
   "name": "python3"
  },
  "language_info": {
   "codemirror_mode": {
    "name": "ipython",
    "version": 3
   },
   "file_extension": ".py",
   "mimetype": "text/x-python",
   "name": "python",
   "nbconvert_exporter": "python",
   "pygments_lexer": "ipython3",
   "version": "3.9.13"
  }
 },
 "nbformat": 4,
 "nbformat_minor": 2
}
